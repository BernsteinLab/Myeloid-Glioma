{
 "cells": [
  {
   "cell_type": "code",
   "execution_count": 1,
   "id": "a7023d3c",
   "metadata": {},
   "outputs": [],
   "source": [
    "import os\n",
    "import scanpy as sc\n",
    "import squidpy as sq\n",
    "import pandas as pd\n",
    "import numpy as np\n",
    "from scipy import linalg, sparse\n",
    "from tqdm import tqdm\n",
    "from itertools import compress\n",
    "\n",
    "import warnings\n",
    "warnings.filterwarnings(\"ignore\")"
   ]
  },
  {
   "cell_type": "code",
   "execution_count": 2,
   "id": "f8d39322",
   "metadata": {},
   "outputs": [],
   "source": [
    "adata_dir = 'adata_env'\n",
    "samples = [f[5:-5] for f in os.listdir(adata_dir)] "
   ]
  },
  {
   "cell_type": "code",
   "execution_count": 3,
   "id": "23500b56",
   "metadata": {},
   "outputs": [],
   "source": [
    "adata_output_dir = 'adata_integrated_all'\n",
    "if not os.path.exists(adata_output_dir):\n",
    "    os.mkdir(adata_output_dir)"
   ]
  },
  {
   "cell_type": "code",
   "execution_count": 4,
   "id": "7a7374ff",
   "metadata": {},
   "outputs": [],
   "source": [
    "# exclude IDH mutants\n",
    "keep = ['IDHMutant' not in sample for sample in samples]\n",
    "samples = list(compress(samples, keep))"
   ]
  },
  {
   "cell_type": "code",
   "execution_count": 5,
   "id": "4d30a354",
   "metadata": {},
   "outputs": [],
   "source": [
    "# set max measure for spatial distances\n",
    "ring_max = 40"
   ]
  },
  {
   "cell_type": "code",
   "execution_count": 6,
   "id": "c4706d3b",
   "metadata": {},
   "outputs": [],
   "source": [
    "# set path for external info\n",
    "CNV_info_dir = '/Users/cpc45/Data/GBM/Henrik_spatial/CNV_info'\n",
    "RCTD_info_dir = '/Users/cpc45/Data/GBM/Henrik_spatial/RCTD_csv'"
   ]
  },
  {
   "cell_type": "code",
   "execution_count": 7,
   "id": "a101c3bd",
   "metadata": {},
   "outputs": [],
   "source": [
    "adata = sc.read('adata_env.h5ad')\n",
    "adata = adata[adata.obs['patient'].isin(samples)]"
   ]
  },
  {
   "cell_type": "code",
   "execution_count": 8,
   "id": "b9e2a93e",
   "metadata": {
    "scrolled": false
   },
   "outputs": [
    {
     "name": "stderr",
     "output_type": "stream",
     "text": [
      " 13%|█████▋                                      | 3/23 [01:04<06:57, 20.87s/it]"
     ]
    },
    {
     "name": "stdout",
     "output_type": "stream",
     "text": [
      "CNV file not found for UKF242_C\n"
     ]
    },
    {
     "name": "stderr",
     "output_type": "stream",
     "text": [
      " 39%|█████████████████▏                          | 9/23 [03:13<04:56, 21.15s/it]"
     ]
    },
    {
     "name": "stdout",
     "output_type": "stream",
     "text": [
      "CNV file not found for UKF248_C\n"
     ]
    },
    {
     "name": "stderr",
     "output_type": "stream",
     "text": [
      "\r",
      " 43%|██████████████████▋                        | 10/23 [03:20<03:38, 16.80s/it]"
     ]
    },
    {
     "name": "stdout",
     "output_type": "stream",
     "text": [
      "CNV file not found for UKF256_C\n"
     ]
    },
    {
     "name": "stderr",
     "output_type": "stream",
     "text": [
      " 52%|██████████████████████▍                    | 12/23 [03:42<02:29, 13.56s/it]"
     ]
    },
    {
     "name": "stdout",
     "output_type": "stream",
     "text": [
      "CNV file not found for UKF265_C\n"
     ]
    },
    {
     "name": "stderr",
     "output_type": "stream",
     "text": [
      " 65%|████████████████████████████               | 15/23 [04:24<01:45, 13.18s/it]"
     ]
    },
    {
     "name": "stdout",
     "output_type": "stream",
     "text": [
      "CNV file not found for UKF241_C\n"
     ]
    },
    {
     "name": "stderr",
     "output_type": "stream",
     "text": [
      " 78%|█████████████████████████████████▋         | 18/23 [05:05<01:12, 14.54s/it]"
     ]
    },
    {
     "name": "stdout",
     "output_type": "stream",
     "text": [
      "CNV file not found for UKF259_C\n"
     ]
    },
    {
     "name": "stderr",
     "output_type": "stream",
     "text": [
      "\r",
      " 83%|███████████████████████████████████▌       | 19/23 [05:18<00:56, 14.13s/it]"
     ]
    },
    {
     "name": "stdout",
     "output_type": "stream",
     "text": [
      "CNV file not found for UKF334_C\n"
     ]
    },
    {
     "name": "stderr",
     "output_type": "stream",
     "text": [
      " 96%|█████████████████████████████████████████▏ | 22/23 [06:19<00:19, 19.20s/it]"
     ]
    },
    {
     "name": "stdout",
     "output_type": "stream",
     "text": [
      "CNV file not found for UKF256_TI\n"
     ]
    },
    {
     "name": "stderr",
     "output_type": "stream",
     "text": [
      "100%|███████████████████████████████████████████| 23/23 [06:21<00:00, 16.60s/it]\n"
     ]
    }
   ],
   "source": [
    "adatas = []\n",
    "d = []\n",
    "chromosomes = ['Chr7','Chr10']\n",
    "\n",
    "first1 = True\n",
    "first2 = True\n",
    "for sample in tqdm(samples):\n",
    "    _adata = sc.read(os.path.join(adata_dir,'adata%s.h5ad'%sample))\n",
    "    sq.gr.spatial_neighbors(_adata, n_rings = ring_max)\n",
    "    d.append(np.asarray(_adata.obsp['spatial_distances'].todense()))\n",
    "    \n",
    "    # find number to append to indices to match adata\n",
    "    index_num_to_append = adata[adata.obs['patient']==sample,:].obs.index[0].split('-')[-1]\n",
    "    \n",
    "    # integrate cnv data\n",
    "    try:\n",
    "        CNV_file = os.path.join(CNV_info_dir,'cnv_%s.csv'%sample[3::])\n",
    "\n",
    "        cnv = pd.read_csv(CNV_file, index_col=0)\n",
    "        cnv = cnv.iloc[:,7:-8]\n",
    "        \n",
    "        cnv_original = cnv.copy()\n",
    "        cnv.index = cnv.index + '-%s'%index_num_to_append\n",
    "        index = list(set(cnv.index) & set(adata.obs.index))\n",
    "        \n",
    "        # all pixels\n",
    "        if first1:\n",
    "            for ch in chromosomes:\n",
    "                adata.obs[ch] = cnv.loc[index,ch]\n",
    "            first1 = False\n",
    "        else:\n",
    "            for ch in chromosomes:\n",
    "                adata.obs.loc[index,ch] = cnv.loc[index,ch]\n",
    "        \n",
    "        # per sample\n",
    "        for ch in chromosomes:\n",
    "            _adata.obs[ch] = cnv_original.loc[:,ch]\n",
    "            \n",
    "    except FileNotFoundError:\n",
    "        print('CNV file not found for %s'%sample)\n",
    "        \n",
    "    # integrate RCTD data\n",
    "    try:\n",
    "        RCTD_file = os.path.join(RCTD_info_dir,'RCTD_%s.csv'%sample)\n",
    "        rctd = pd.read_csv(RCTD_file, index_col=0)\n",
    "        \n",
    "        # correct names of malignant programs\n",
    "        malignant_dict = {'Malignant2':'NPC','Malignant3':'AC','Malignant4':'MES2','Malignant6':'MES1','Malignant7':'OPC'}\n",
    "        for m in malignant_dict:\n",
    "            rctd.columns = list(map(lambda x: x.replace(m, malignant_dict[m]), rctd.columns))\n",
    "        #\n",
    "        \n",
    "        rctd.columns = ['rctd_%s'%col for col in rctd.columns]\n",
    "        \n",
    "        rctd_original = rctd.copy()\n",
    "        rctd.index = rctd.index + '-%s'%index_num_to_append\n",
    "        index = list(set(rctd.index) & set(adata.obs.index))\n",
    "        \n",
    "        # all pixels\n",
    "        if first2:\n",
    "            rctd_columns = rctd.columns\n",
    "            first2 = False\n",
    "            for r in rctd_columns:\n",
    "                adata.obs[r] = rctd.loc[index,r]\n",
    "        else:\n",
    "            for r in rctd_columns:\n",
    "                adata.obs.loc[index,r] = rctd.loc[index,r]\n",
    "        \n",
    "        # per sample\n",
    "        for r in rctd_columns:\n",
    "            _adata.obs[r] = rctd_original.loc[:,r]\n",
    "            \n",
    "        _adata.write(os.path.join(adata_output_dir, 'adata%s.h5ad'%sample))\n",
    "        \n",
    "    except FileNotFoundError:\n",
    "        print('RCTD file not found for %s'%sample)\n",
    "        "
   ]
  },
  {
   "cell_type": "code",
   "execution_count": 9,
   "id": "d416a391",
   "metadata": {},
   "outputs": [],
   "source": [
    "D = linalg.block_diag(*d)\n",
    "adata.obsp['spatial_distances'] = sparse.csr_matrix(D)"
   ]
  },
  {
   "cell_type": "code",
   "execution_count": 10,
   "id": "942ae2aa",
   "metadata": {},
   "outputs": [],
   "source": [
    "adata.write('adata_integrated_with_normal.h5ad')"
   ]
  },
  {
   "cell_type": "code",
   "execution_count": null,
   "id": "5aa0c2d8",
   "metadata": {},
   "outputs": [],
   "source": []
  }
 ],
 "metadata": {
  "kernelspec": {
   "display_name": "Python 3 (ipykernel)",
   "language": "python",
   "name": "python3"
  },
  "language_info": {
   "codemirror_mode": {
    "name": "ipython",
    "version": 3
   },
   "file_extension": ".py",
   "mimetype": "text/x-python",
   "name": "python",
   "nbconvert_exporter": "python",
   "pygments_lexer": "ipython3",
   "version": "3.8.16"
  }
 },
 "nbformat": 4,
 "nbformat_minor": 5
}
