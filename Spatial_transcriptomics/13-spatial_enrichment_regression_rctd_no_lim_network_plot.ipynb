{
 "cells": [
  {
   "cell_type": "code",
   "execution_count": 1,
   "metadata": {},
   "outputs": [],
   "source": [
    "import scanpy as sc\n",
    "import pandas as pd\n",
    "import numpy as np\n",
    "import math\n",
    "import matplotlib.pyplot as plt\n",
    "import seaborn as sns\n",
    "import scipy.stats as stats\n",
    "import squidpy as sq\n",
    "from itertools import compress\n",
    "import networkx as nx\n",
    "\n",
    "import pyvis as pv"
   ]
  },
  {
   "cell_type": "code",
   "execution_count": 2,
   "metadata": {},
   "outputs": [],
   "source": [
    "adata_dir = 'adata_env'\n",
    "\n",
    "adata = sc.read('adata_integrated.h5ad')\n",
    "patients = adata.obs['patient'].cat.categories\n",
    "\n",
    "env_names = adata.obs.columns[['env_' in el for el in adata.obs.columns]]\n",
    "env_names = [e for e in env_names if 'MT' not in e]\n",
    "\n",
    "rctd_names = adata.obs.columns[['rctd_' in el for el in adata.obs.columns]]\n",
    "rctd_names = [r for r in rctd_names if 'Mast' not in r]\n",
    "\n",
    "sigs = rctd_names"
   ]
  },
  {
   "cell_type": "code",
   "execution_count": 3,
   "metadata": {},
   "outputs": [],
   "source": [
    "# remove outlier samples (mostly normal, strange behavior)\n",
    "keep = [all([s not in patient for s in ['313']]) for patient in patients]\n",
    "patients = list(compress(patients, keep))\n",
    "adata = adata[adata.obs['patient'].isin(patients)]"
   ]
  },
  {
   "cell_type": "code",
   "execution_count": 4,
   "metadata": {},
   "outputs": [],
   "source": [
    "r=1\n",
    "Xagg = pd.read_csv('spatial_enrichment_by_regression_r%i_significant_rctd.csv'%r, index_col=[0,1])"
   ]
  },
  {
   "cell_type": "code",
   "execution_count": 5,
   "metadata": {},
   "outputs": [],
   "source": [
    "# remove neurons and astro\n",
    "Xagg = Xagg.drop(['rctd_Astro', 'rctd_Neuron'], level=1)\n",
    "Xagg = Xagg.drop(['rctd_Astro', 'rctd_Neuron'], level=0)"
   ]
  },
  {
   "cell_type": "code",
   "execution_count": 6,
   "metadata": {
    "scrolled": false
   },
   "outputs": [
    {
     "name": "stderr",
     "output_type": "stream",
     "text": [
      "/var/folders/rt/bkk9ygc977qblhlsqxs5r77h0000gp/T/ipykernel_19413/1515616545.py:23: FutureWarning: The frame.append method is deprecated and will be removed from pandas in a future version. Use pandas.concat instead.\n",
      "  df = df.append({'level_0':'dummy0','level_1':'dummy1','enrichment':3,'n_samples_significant':1},\\\n"
     ]
    }
   ],
   "source": [
    "perc_thr = 0.4\n",
    "Xagg_thr = 0.5\n",
    "\n",
    "X_agg_pos = Xagg[np.logical_and(Xagg['n_samples_significant']>=perc_thr, Xagg['enrichment']>=Xagg_thr)].copy()\n",
    "\n",
    "for index in X_agg_pos.index:\n",
    "    try:\n",
    "        if X_agg_pos.loc[(index[1],index[0]),'enrichment'] > X_agg_pos.loc[index,'enrichment']:\n",
    "            X_agg_pos.drop(index, inplace=True)\n",
    "        else:\n",
    "            X_agg_pos.drop((index[1],index[0]), inplace=True)\n",
    "    except KeyError:\n",
    "        pass\n",
    "\n",
    "df = X_agg_pos.reset_index()\n",
    "df = df[df['level_0']!=df['level_1']] # remove self loops\n",
    "\n",
    "# set max value for enrichment\n",
    "max_val = 2\n",
    "df.loc[df['enrichment']>max_val,'enrichment'] = max_val\n",
    "\n",
    "# add edge to scale others\n",
    "dummy_val = 3\n",
    "df = df.append({'level_0':'dummy0','level_1':'dummy1','enrichment':dummy_val,'n_samples_significant':1},\\\n",
    "          ignore_index=True)\n",
    "\n",
    "df.to_csv('network_graph_edges_rctd_3thr.csv')"
   ]
  },
  {
   "cell_type": "code",
   "execution_count": 8,
   "metadata": {},
   "outputs": [],
   "source": [
    "G = nx.from_pandas_edgelist(df,'level_0','level_1',edge_attr=True)\n",
    "GEdges = pd.concat([df.set_index(['level_0','level_1']), df.set_index(['level_1','level_0'])]).loc[list(G.edges)]"
   ]
  },
  {
   "cell_type": "code",
   "execution_count": 9,
   "metadata": {},
   "outputs": [
    {
     "name": "stdout",
     "output_type": "stream",
     "text": [
      "Local cdn resources have problems on chrome/safari when used in jupyter-notebook. \n"
     ]
    },
    {
     "data": {
      "text/html": [
       "\n",
       "        <iframe\n",
       "            width=\"100%\"\n",
       "            height=\"600px\"\n",
       "            src=\"spatial_enrichment_r1_rctd_new_thr.html\"\n",
       "            frameborder=\"0\"\n",
       "            allowfullscreen\n",
       "            \n",
       "        ></iframe>\n",
       "        "
      ],
      "text/plain": [
       "<IPython.lib.display.IFrame at 0x7fdfe8c32970>"
      ]
     },
     "execution_count": 9,
     "metadata": {},
     "output_type": "execute_result"
    }
   ],
   "source": [
    "# adjust plot params\n",
    "for node in G.nodes:\n",
    "    if 'Scavenger' in node:\n",
    "        G.nodes[node]['color'] = 'blue'\n",
    "    elif 'Complement' in node:\n",
    "        G.nodes[node]['color'] = 'blue'\n",
    "    elif 'IL1B' in node:\n",
    "        G.nodes[node]['color'] = 'red'\n",
    "    elif 'Inflamm' in node:\n",
    "        G.nodes[node]['color'] = 'red'\n",
    "    else:\n",
    "        G.nodes[node]['color'] = 'gray'\n",
    "for edge in G.edges:\n",
    "    G.edges[edge]['value'] = GEdges.loc[edge,'enrichment'].mean()\n",
    "    G.edges[edge]['color'] = 'gray'\n",
    "\n",
    "# create vis network\n",
    "net = pv.network.Network(notebook=True)\n",
    "rndseed = 4\n",
    "net.set_options('{\"layout\": {\"randomSeed\":%i}}'%rndseed)\n",
    "# load the networkx graph\n",
    "net.from_nx(G)\n",
    "# show\n",
    "net.show(\"spatial_enrichment_r%i_rctd_new_thr.html\"%r)"
   ]
  },
  {
   "cell_type": "code",
   "execution_count": 10,
   "metadata": {},
   "outputs": [
    {
     "name": "stdout",
     "output_type": "stream",
     "text": [
      "Local cdn resources have problems on chrome/safari when used in jupyter-notebook. \n"
     ]
    },
    {
     "data": {
      "text/html": [
       "\n",
       "        <iframe\n",
       "            width=\"100%\"\n",
       "            height=\"600px\"\n",
       "            src=\"spatial_enrichment_r1_rctd_new_thr_no_labels.html\"\n",
       "            frameborder=\"0\"\n",
       "            allowfullscreen\n",
       "            \n",
       "        ></iframe>\n",
       "        "
      ],
      "text/plain": [
       "<IPython.lib.display.IFrame at 0x7fdff8aefa60>"
      ]
     },
     "execution_count": 10,
     "metadata": {},
     "output_type": "execute_result"
    }
   ],
   "source": [
    "# create vis network, no labels\n",
    "net = pv.network.Network(notebook=True, font_color='#10000000', bgcolor='#10000000')\n",
    "net.set_options('{\"layout\": {\"randomSeed\":%i}}'%rndseed)\n",
    "# load the networkx graph\n",
    "net.from_nx(G)\n",
    "# show\n",
    "net.show(\"spatial_enrichment_r%i_rctd_new_thr_no_labels.html\"%r)"
   ]
  },
  {
   "cell_type": "code",
   "execution_count": null,
   "metadata": {},
   "outputs": [],
   "source": []
  }
 ],
 "metadata": {
  "kernelspec": {
   "display_name": "Python 3 (ipykernel)",
   "language": "python",
   "name": "python3"
  },
  "language_info": {
   "codemirror_mode": {
    "name": "ipython",
    "version": 3
   },
   "file_extension": ".py",
   "mimetype": "text/x-python",
   "name": "python",
   "nbconvert_exporter": "python",
   "pygments_lexer": "ipython3",
   "version": "3.8.16"
  }
 },
 "nbformat": 4,
 "nbformat_minor": 4
}
