{
 "cells": [
  {
   "cell_type": "code",
   "execution_count": 1,
   "id": "766baa2e",
   "metadata": {},
   "outputs": [],
   "source": [
    "import os\n",
    "import yaml\n",
    "import scanpy as sc\n",
    "import pandas as pd\n",
    "import numpy as np\n",
    "from scipy import spatial\n",
    "import squidpy as sq\n",
    "from sklearn.decomposition import non_negative_factorization"
   ]
  },
  {
   "cell_type": "code",
   "execution_count": 2,
   "id": "e130256e",
   "metadata": {},
   "outputs": [],
   "source": [
    "selected_K = 7\n",
    "density_threshold = 0.1\n",
    "\n",
    "input_directory = 'results'\n",
    "adata_dir = 'adata'\n",
    "adata_file = 'adata_full.h5ad'\n",
    "adata_output_directory = 'adata_env'\n",
    "\n",
    "program_names = ['env_gray_matter','env_hypoxic','env_white_matter','env_cellular_cancer','env_vasculature',\\\n",
    "                 'env_astro_inflammatory','env_MT-RPL']"
   ]
  },
  {
   "cell_type": "code",
   "execution_count": 3,
   "id": "7e3a8780",
   "metadata": {},
   "outputs": [],
   "source": [
    "# prepare\n",
    "patients = [f[5:-5] for f in os.listdir(adata_dir)  if '.' != f[0]] \n",
    "density_threshold_str = ('%.2f' % density_threshold).replace('.', '_')\n",
    "if not os.path.exists(adata_output_directory):\n",
    "    os.mkdir(adata_output_directory)\n",
    "    \n",
    "k_filename = os.path.join(input_directory,'cnmf_run.k_selection_stats.df.npz')\n",
    "with np.load(k_filename, allow_pickle=True) as f:\n",
    "    k_obj = pd.DataFrame(**f)"
   ]
  },
  {
   "cell_type": "code",
   "execution_count": 4,
   "id": "e694cbf5",
   "metadata": {
    "scrolled": false
   },
   "outputs": [],
   "source": [
    "# get usage scores\n",
    "adata = sc.read(adata_file)\n",
    "    \n",
    "rf_usages = pd.read_csv(os.path.join(input_directory, 'cnmf_run.usages.k_%d.dt_%s.consensus.txt'\\\n",
    "                                       %(selected_K, density_threshold_str)), sep='\\t', index_col=0)\n",
    "rf_usages.columns = program_names\n",
    "norm_usages = rf_usages.div(rf_usages.sum(axis=1), axis=0)\n",
    "    \n",
    "for col in norm_usages:\n",
    "    adata.obs[col] = norm_usages[col]\n",
    "                                 \n",
    "# save adata for all patients\n",
    "saved_adata = os.path.join('adata_env.h5ad')\n",
    "adata.write(saved_adata)"
   ]
  },
  {
   "cell_type": "code",
   "execution_count": 5,
   "id": "bd96bfb6",
   "metadata": {},
   "outputs": [],
   "source": [
    "# save adata for patients separately\n",
    "for patient in patients:\n",
    "    adata_patient = sc.read(os.path.join(adata_dir,'adata%s.h5ad'%patient))\n",
    "    \n",
    "    usages_patient = adata[adata.obs['patient']==patient,:].obs[program_names]\n",
    "    usages_patient.index = [index.split('-')[0]+'-1' for index in usages_patient.index]\n",
    "    \n",
    "    for col in usages_patient:\n",
    "        adata_patient.obs[col] = usages_patient[col]\n",
    "        \n",
    "    # save\n",
    "    saved_adata = os.path.join(adata_output_directory, 'adata%s.h5ad'%patient)\n",
    "    adata_patient.write(saved_adata)"
   ]
  },
  {
   "cell_type": "code",
   "execution_count": null,
   "id": "5cd4c3dd",
   "metadata": {},
   "outputs": [],
   "source": []
  }
 ],
 "metadata": {
  "kernelspec": {
   "display_name": "Python 3 (ipykernel)",
   "language": "python",
   "name": "python3"
  },
  "language_info": {
   "codemirror_mode": {
    "name": "ipython",
    "version": 3
   },
   "file_extension": ".py",
   "mimetype": "text/x-python",
   "name": "python",
   "nbconvert_exporter": "python",
   "pygments_lexer": "ipython3",
   "version": "3.8.16"
  }
 },
 "nbformat": 4,
 "nbformat_minor": 5
}
