{
 "cells": [
  {
   "cell_type": "code",
   "execution_count": 1,
   "id": "2561e553",
   "metadata": {},
   "outputs": [],
   "source": [
    "import os\n",
    "import scanpy as sc\n",
    "import pandas as pd\n",
    "import numpy as np"
   ]
  },
  {
   "cell_type": "code",
   "execution_count": 2,
   "id": "54d38b99",
   "metadata": {},
   "outputs": [],
   "source": [
    "adata_dir = 'adata'\n",
    "samples = [f[5:-5] for f in os.listdir(adata_dir)] "
   ]
  },
  {
   "cell_type": "code",
   "execution_count": 3,
   "id": "cdda5f12",
   "metadata": {},
   "outputs": [],
   "source": [
    "genes = pd.read_csv('cnmf_genes.csv', header=None, index_col=0).index"
   ]
  },
  {
   "cell_type": "code",
   "execution_count": 4,
   "id": "1f0647c8",
   "metadata": {
    "scrolled": true
   },
   "outputs": [],
   "source": [
    "adatas = []\n",
    "for sample in samples:\n",
    "    _adata = sc.read(os.path.join(adata_dir,'adata%s.h5ad'%sample))\n",
    "    _adata.obs['patient'] = np.repeat(sample, _adata.n_obs)\n",
    "    \n",
    "    use_genes = _adata.var.index.intersection(genes)\n",
    "    _adata = _adata[:,use_genes]\n",
    "    \n",
    "    adatas.append(_adata)"
   ]
  },
  {
   "cell_type": "code",
   "execution_count": 5,
   "id": "d2a0cc2b",
   "metadata": {},
   "outputs": [
    {
     "name": "stderr",
     "output_type": "stream",
     "text": [
      "/Users/cpc45/opt/anaconda3/lib/python3.8/site-packages/anndata/_core/anndata.py:1785: FutureWarning: X.dtype being converted to np.float32 from float64. In the next version of anndata (0.9) conversion will not be automatic. Pass dtype explicitly to avoid this warning. Pass `AnnData(X, dtype=X.dtype, ...)` to get the future behavour.\n",
      "  [AnnData(sparse.csr_matrix(a.shape), obs=a.obs) for a in all_adatas],\n",
      "/Users/cpc45/opt/anaconda3/lib/python3.8/site-packages/anndata/_core/anndata.py:1785: FutureWarning: X.dtype being converted to np.float32 from float64. In the next version of anndata (0.9) conversion will not be automatic. Pass dtype explicitly to avoid this warning. Pass `AnnData(X, dtype=X.dtype, ...)` to get the future behavour.\n",
      "  [AnnData(sparse.csr_matrix(a.shape), obs=a.obs) for a in all_adatas],\n",
      "/Users/cpc45/opt/anaconda3/lib/python3.8/site-packages/anndata/_core/anndata.py:1785: FutureWarning: X.dtype being converted to np.float32 from float64. In the next version of anndata (0.9) conversion will not be automatic. Pass dtype explicitly to avoid this warning. Pass `AnnData(X, dtype=X.dtype, ...)` to get the future behavour.\n",
      "  [AnnData(sparse.csr_matrix(a.shape), obs=a.obs) for a in all_adatas],\n",
      "/Users/cpc45/opt/anaconda3/lib/python3.8/site-packages/anndata/_core/anndata.py:1785: FutureWarning: X.dtype being converted to np.float32 from float64. In the next version of anndata (0.9) conversion will not be automatic. Pass dtype explicitly to avoid this warning. Pass `AnnData(X, dtype=X.dtype, ...)` to get the future behavour.\n",
      "  [AnnData(sparse.csr_matrix(a.shape), obs=a.obs) for a in all_adatas],\n",
      "/Users/cpc45/opt/anaconda3/lib/python3.8/site-packages/anndata/_core/anndata.py:1785: FutureWarning: X.dtype being converted to np.float32 from float64. In the next version of anndata (0.9) conversion will not be automatic. Pass dtype explicitly to avoid this warning. Pass `AnnData(X, dtype=X.dtype, ...)` to get the future behavour.\n",
      "  [AnnData(sparse.csr_matrix(a.shape), obs=a.obs) for a in all_adatas],\n",
      "/Users/cpc45/opt/anaconda3/lib/python3.8/site-packages/anndata/_core/anndata.py:1785: FutureWarning: X.dtype being converted to np.float32 from float64. In the next version of anndata (0.9) conversion will not be automatic. Pass dtype explicitly to avoid this warning. Pass `AnnData(X, dtype=X.dtype, ...)` to get the future behavour.\n",
      "  [AnnData(sparse.csr_matrix(a.shape), obs=a.obs) for a in all_adatas],\n",
      "/Users/cpc45/opt/anaconda3/lib/python3.8/site-packages/anndata/_core/anndata.py:1785: FutureWarning: X.dtype being converted to np.float32 from float64. In the next version of anndata (0.9) conversion will not be automatic. Pass dtype explicitly to avoid this warning. Pass `AnnData(X, dtype=X.dtype, ...)` to get the future behavour.\n",
      "  [AnnData(sparse.csr_matrix(a.shape), obs=a.obs) for a in all_adatas],\n",
      "/Users/cpc45/opt/anaconda3/lib/python3.8/site-packages/anndata/_core/anndata.py:1785: FutureWarning: X.dtype being converted to np.float32 from float64. In the next version of anndata (0.9) conversion will not be automatic. Pass dtype explicitly to avoid this warning. Pass `AnnData(X, dtype=X.dtype, ...)` to get the future behavour.\n",
      "  [AnnData(sparse.csr_matrix(a.shape), obs=a.obs) for a in all_adatas],\n",
      "/Users/cpc45/opt/anaconda3/lib/python3.8/site-packages/anndata/_core/anndata.py:1785: FutureWarning: X.dtype being converted to np.float32 from float64. In the next version of anndata (0.9) conversion will not be automatic. Pass dtype explicitly to avoid this warning. Pass `AnnData(X, dtype=X.dtype, ...)` to get the future behavour.\n",
      "  [AnnData(sparse.csr_matrix(a.shape), obs=a.obs) for a in all_adatas],\n",
      "/Users/cpc45/opt/anaconda3/lib/python3.8/site-packages/anndata/_core/anndata.py:1785: FutureWarning: X.dtype being converted to np.float32 from float64. In the next version of anndata (0.9) conversion will not be automatic. Pass dtype explicitly to avoid this warning. Pass `AnnData(X, dtype=X.dtype, ...)` to get the future behavour.\n",
      "  [AnnData(sparse.csr_matrix(a.shape), obs=a.obs) for a in all_adatas],\n",
      "/Users/cpc45/opt/anaconda3/lib/python3.8/site-packages/anndata/_core/anndata.py:1785: FutureWarning: X.dtype being converted to np.float32 from float64. In the next version of anndata (0.9) conversion will not be automatic. Pass dtype explicitly to avoid this warning. Pass `AnnData(X, dtype=X.dtype, ...)` to get the future behavour.\n",
      "  [AnnData(sparse.csr_matrix(a.shape), obs=a.obs) for a in all_adatas],\n",
      "/Users/cpc45/opt/anaconda3/lib/python3.8/site-packages/anndata/_core/anndata.py:1785: FutureWarning: X.dtype being converted to np.float32 from float64. In the next version of anndata (0.9) conversion will not be automatic. Pass dtype explicitly to avoid this warning. Pass `AnnData(X, dtype=X.dtype, ...)` to get the future behavour.\n",
      "  [AnnData(sparse.csr_matrix(a.shape), obs=a.obs) for a in all_adatas],\n",
      "/Users/cpc45/opt/anaconda3/lib/python3.8/site-packages/anndata/_core/anndata.py:1785: FutureWarning: X.dtype being converted to np.float32 from float64. In the next version of anndata (0.9) conversion will not be automatic. Pass dtype explicitly to avoid this warning. Pass `AnnData(X, dtype=X.dtype, ...)` to get the future behavour.\n",
      "  [AnnData(sparse.csr_matrix(a.shape), obs=a.obs) for a in all_adatas],\n",
      "/Users/cpc45/opt/anaconda3/lib/python3.8/site-packages/anndata/_core/anndata.py:1785: FutureWarning: X.dtype being converted to np.float32 from float64. In the next version of anndata (0.9) conversion will not be automatic. Pass dtype explicitly to avoid this warning. Pass `AnnData(X, dtype=X.dtype, ...)` to get the future behavour.\n",
      "  [AnnData(sparse.csr_matrix(a.shape), obs=a.obs) for a in all_adatas],\n",
      "/Users/cpc45/opt/anaconda3/lib/python3.8/site-packages/anndata/_core/anndata.py:1785: FutureWarning: X.dtype being converted to np.float32 from float64. In the next version of anndata (0.9) conversion will not be automatic. Pass dtype explicitly to avoid this warning. Pass `AnnData(X, dtype=X.dtype, ...)` to get the future behavour.\n",
      "  [AnnData(sparse.csr_matrix(a.shape), obs=a.obs) for a in all_adatas],\n",
      "/Users/cpc45/opt/anaconda3/lib/python3.8/site-packages/anndata/_core/anndata.py:1785: FutureWarning: X.dtype being converted to np.float32 from float64. In the next version of anndata (0.9) conversion will not be automatic. Pass dtype explicitly to avoid this warning. Pass `AnnData(X, dtype=X.dtype, ...)` to get the future behavour.\n",
      "  [AnnData(sparse.csr_matrix(a.shape), obs=a.obs) for a in all_adatas],\n",
      "/Users/cpc45/opt/anaconda3/lib/python3.8/site-packages/anndata/_core/anndata.py:1785: FutureWarning: X.dtype being converted to np.float32 from float64. In the next version of anndata (0.9) conversion will not be automatic. Pass dtype explicitly to avoid this warning. Pass `AnnData(X, dtype=X.dtype, ...)` to get the future behavour.\n",
      "  [AnnData(sparse.csr_matrix(a.shape), obs=a.obs) for a in all_adatas],\n",
      "/Users/cpc45/opt/anaconda3/lib/python3.8/site-packages/anndata/_core/anndata.py:1785: FutureWarning: X.dtype being converted to np.float32 from float64. In the next version of anndata (0.9) conversion will not be automatic. Pass dtype explicitly to avoid this warning. Pass `AnnData(X, dtype=X.dtype, ...)` to get the future behavour.\n",
      "  [AnnData(sparse.csr_matrix(a.shape), obs=a.obs) for a in all_adatas],\n",
      "/Users/cpc45/opt/anaconda3/lib/python3.8/site-packages/anndata/_core/anndata.py:1785: FutureWarning: X.dtype being converted to np.float32 from float64. In the next version of anndata (0.9) conversion will not be automatic. Pass dtype explicitly to avoid this warning. Pass `AnnData(X, dtype=X.dtype, ...)` to get the future behavour.\n",
      "  [AnnData(sparse.csr_matrix(a.shape), obs=a.obs) for a in all_adatas],\n",
      "/Users/cpc45/opt/anaconda3/lib/python3.8/site-packages/anndata/_core/anndata.py:1785: FutureWarning: X.dtype being converted to np.float32 from float64. In the next version of anndata (0.9) conversion will not be automatic. Pass dtype explicitly to avoid this warning. Pass `AnnData(X, dtype=X.dtype, ...)` to get the future behavour.\n",
      "  [AnnData(sparse.csr_matrix(a.shape), obs=a.obs) for a in all_adatas],\n",
      "/Users/cpc45/opt/anaconda3/lib/python3.8/site-packages/anndata/_core/anndata.py:1785: FutureWarning: X.dtype being converted to np.float32 from float64. In the next version of anndata (0.9) conversion will not be automatic. Pass dtype explicitly to avoid this warning. Pass `AnnData(X, dtype=X.dtype, ...)` to get the future behavour.\n",
      "  [AnnData(sparse.csr_matrix(a.shape), obs=a.obs) for a in all_adatas],\n",
      "/Users/cpc45/opt/anaconda3/lib/python3.8/site-packages/anndata/_core/anndata.py:1785: FutureWarning: X.dtype being converted to np.float32 from float64. In the next version of anndata (0.9) conversion will not be automatic. Pass dtype explicitly to avoid this warning. Pass `AnnData(X, dtype=X.dtype, ...)` to get the future behavour.\n",
      "  [AnnData(sparse.csr_matrix(a.shape), obs=a.obs) for a in all_adatas],\n",
      "/Users/cpc45/opt/anaconda3/lib/python3.8/site-packages/anndata/_core/anndata.py:1785: FutureWarning: X.dtype being converted to np.float32 from float64. In the next version of anndata (0.9) conversion will not be automatic. Pass dtype explicitly to avoid this warning. Pass `AnnData(X, dtype=X.dtype, ...)` to get the future behavour.\n",
      "  [AnnData(sparse.csr_matrix(a.shape), obs=a.obs) for a in all_adatas],\n",
      "/Users/cpc45/opt/anaconda3/lib/python3.8/site-packages/anndata/_core/anndata.py:1785: FutureWarning: X.dtype being converted to np.float32 from float64. In the next version of anndata (0.9) conversion will not be automatic. Pass dtype explicitly to avoid this warning. Pass `AnnData(X, dtype=X.dtype, ...)` to get the future behavour.\n",
      "  [AnnData(sparse.csr_matrix(a.shape), obs=a.obs) for a in all_adatas],\n",
      "/Users/cpc45/opt/anaconda3/lib/python3.8/site-packages/anndata/_core/anndata.py:1785: FutureWarning: X.dtype being converted to np.float32 from float64. In the next version of anndata (0.9) conversion will not be automatic. Pass dtype explicitly to avoid this warning. Pass `AnnData(X, dtype=X.dtype, ...)` to get the future behavour.\n",
      "  [AnnData(sparse.csr_matrix(a.shape), obs=a.obs) for a in all_adatas],\n"
     ]
    }
   ],
   "source": [
    "adata = adatas[0]\n",
    "if len(adata)>1:\n",
    "    adata = adata.concatenate(adatas[1::],batch_key='batch_number', join='outer', fill_value=0)"
   ]
  },
  {
   "cell_type": "code",
   "execution_count": 6,
   "id": "83b73218",
   "metadata": {},
   "outputs": [],
   "source": [
    "# correct a few columns in var\n",
    "vcol = adata.var.columns\n",
    "cols_to_change = ['gene_ids','genome','mt','feature_types']\n",
    "for newcol in cols_to_change:\n",
    "    coi = [c for c in vcol if newcol in c]\n",
    "    adata.var[newcol] = adata.var[coi].fillna(method='bfill', axis=1).iloc[:, 0]\n",
    "    adata.var.drop(coi, axis=1, inplace=True)\n",
    "\n",
    "bool_col = 'highly_variable'\n",
    "coi = [c for c in vcol if bool_col in c]\n",
    "adata.var[coi] = adata.var[coi].fillna(False)"
   ]
  },
  {
   "cell_type": "code",
   "execution_count": 7,
   "id": "a6364c35",
   "metadata": {},
   "outputs": [],
   "source": [
    "adata.write('adata.h5ad')"
   ]
  },
  {
   "cell_type": "code",
   "execution_count": 12,
   "id": "38d4c315",
   "metadata": {},
   "outputs": [
    {
     "data": {
      "text/plain": [
       "AnnData object with n_obs × n_vars = 68830 × 1500\n",
       "    obs: 'in_tissue', 'array_row', 'array_col', 'n_genes_by_counts', 'log1p_n_genes_by_counts', 'total_counts', 'log1p_total_counts', 'pct_counts_in_top_50_genes', 'pct_counts_in_top_100_genes', 'pct_counts_in_top_200_genes', 'pct_counts_in_top_500_genes', 'total_counts_mt', 'log1p_total_counts_mt', 'pct_counts_mt', 'n_counts', 'patient', 'batch_number'\n",
       "    var: 'n_cells_by_counts-0', 'mean_counts-0', 'log1p_mean_counts-0', 'pct_dropout_by_counts-0', 'total_counts-0', 'log1p_total_counts-0', 'n_cells-0', 'highly_variable-0', 'means-0', 'dispersions-0', 'dispersions_norm-0', 'n_cells_by_counts-1', 'mean_counts-1', 'log1p_mean_counts-1', 'pct_dropout_by_counts-1', 'total_counts-1', 'log1p_total_counts-1', 'n_cells-1', 'highly_variable-1', 'means-1', 'dispersions-1', 'dispersions_norm-1', 'n_cells_by_counts-10', 'mean_counts-10', 'log1p_mean_counts-10', 'pct_dropout_by_counts-10', 'total_counts-10', 'log1p_total_counts-10', 'n_cells-10', 'highly_variable-10', 'means-10', 'dispersions-10', 'dispersions_norm-10', 'n_cells_by_counts-11', 'mean_counts-11', 'log1p_mean_counts-11', 'pct_dropout_by_counts-11', 'total_counts-11', 'log1p_total_counts-11', 'n_cells-11', 'highly_variable-11', 'means-11', 'dispersions-11', 'dispersions_norm-11', 'n_cells_by_counts-12', 'mean_counts-12', 'log1p_mean_counts-12', 'pct_dropout_by_counts-12', 'total_counts-12', 'log1p_total_counts-12', 'n_cells-12', 'highly_variable-12', 'means-12', 'dispersions-12', 'dispersions_norm-12', 'n_cells_by_counts-13', 'mean_counts-13', 'log1p_mean_counts-13', 'pct_dropout_by_counts-13', 'total_counts-13', 'log1p_total_counts-13', 'n_cells-13', 'highly_variable-13', 'means-13', 'dispersions-13', 'dispersions_norm-13', 'n_cells_by_counts-14', 'mean_counts-14', 'log1p_mean_counts-14', 'pct_dropout_by_counts-14', 'total_counts-14', 'log1p_total_counts-14', 'n_cells-14', 'highly_variable-14', 'means-14', 'dispersions-14', 'dispersions_norm-14', 'n_cells_by_counts-15', 'mean_counts-15', 'log1p_mean_counts-15', 'pct_dropout_by_counts-15', 'total_counts-15', 'log1p_total_counts-15', 'n_cells-15', 'highly_variable-15', 'means-15', 'dispersions-15', 'dispersions_norm-15', 'n_cells_by_counts-16', 'mean_counts-16', 'log1p_mean_counts-16', 'pct_dropout_by_counts-16', 'total_counts-16', 'log1p_total_counts-16', 'n_cells-16', 'highly_variable-16', 'means-16', 'dispersions-16', 'dispersions_norm-16', 'n_cells_by_counts-17', 'mean_counts-17', 'log1p_mean_counts-17', 'pct_dropout_by_counts-17', 'total_counts-17', 'log1p_total_counts-17', 'n_cells-17', 'highly_variable-17', 'means-17', 'dispersions-17', 'dispersions_norm-17', 'n_cells_by_counts-18', 'mean_counts-18', 'log1p_mean_counts-18', 'pct_dropout_by_counts-18', 'total_counts-18', 'log1p_total_counts-18', 'n_cells-18', 'highly_variable-18', 'means-18', 'dispersions-18', 'dispersions_norm-18', 'n_cells_by_counts-19', 'mean_counts-19', 'log1p_mean_counts-19', 'pct_dropout_by_counts-19', 'total_counts-19', 'log1p_total_counts-19', 'n_cells-19', 'highly_variable-19', 'means-19', 'dispersions-19', 'dispersions_norm-19', 'n_cells_by_counts-2', 'mean_counts-2', 'log1p_mean_counts-2', 'pct_dropout_by_counts-2', 'total_counts-2', 'log1p_total_counts-2', 'n_cells-2', 'highly_variable-2', 'means-2', 'dispersions-2', 'dispersions_norm-2', 'n_cells_by_counts-20', 'mean_counts-20', 'log1p_mean_counts-20', 'pct_dropout_by_counts-20', 'total_counts-20', 'log1p_total_counts-20', 'n_cells-20', 'highly_variable-20', 'means-20', 'dispersions-20', 'dispersions_norm-20', 'n_cells_by_counts-21', 'mean_counts-21', 'log1p_mean_counts-21', 'pct_dropout_by_counts-21', 'total_counts-21', 'log1p_total_counts-21', 'n_cells-21', 'highly_variable-21', 'means-21', 'dispersions-21', 'dispersions_norm-21', 'n_cells_by_counts-22', 'mean_counts-22', 'log1p_mean_counts-22', 'pct_dropout_by_counts-22', 'total_counts-22', 'log1p_total_counts-22', 'n_cells-22', 'highly_variable-22', 'means-22', 'dispersions-22', 'dispersions_norm-22', 'n_cells_by_counts-23', 'mean_counts-23', 'log1p_mean_counts-23', 'pct_dropout_by_counts-23', 'total_counts-23', 'log1p_total_counts-23', 'n_cells-23', 'highly_variable-23', 'means-23', 'dispersions-23', 'dispersions_norm-23', 'n_cells_by_counts-24', 'mean_counts-24', 'log1p_mean_counts-24', 'pct_dropout_by_counts-24', 'total_counts-24', 'log1p_total_counts-24', 'n_cells-24', 'highly_variable-24', 'means-24', 'dispersions-24', 'dispersions_norm-24', 'n_cells_by_counts-3', 'mean_counts-3', 'log1p_mean_counts-3', 'pct_dropout_by_counts-3', 'total_counts-3', 'log1p_total_counts-3', 'n_cells-3', 'highly_variable-3', 'means-3', 'dispersions-3', 'dispersions_norm-3', 'n_cells_by_counts-4', 'mean_counts-4', 'log1p_mean_counts-4', 'pct_dropout_by_counts-4', 'total_counts-4', 'log1p_total_counts-4', 'n_cells-4', 'highly_variable-4', 'means-4', 'dispersions-4', 'dispersions_norm-4', 'n_cells_by_counts-5', 'mean_counts-5', 'log1p_mean_counts-5', 'pct_dropout_by_counts-5', 'total_counts-5', 'log1p_total_counts-5', 'n_cells-5', 'highly_variable-5', 'means-5', 'dispersions-5', 'dispersions_norm-5', 'n_cells_by_counts-6', 'mean_counts-6', 'log1p_mean_counts-6', 'pct_dropout_by_counts-6', 'total_counts-6', 'log1p_total_counts-6', 'n_cells-6', 'highly_variable-6', 'means-6', 'dispersions-6', 'dispersions_norm-6', 'n_cells_by_counts-7', 'mean_counts-7', 'log1p_mean_counts-7', 'pct_dropout_by_counts-7', 'total_counts-7', 'log1p_total_counts-7', 'n_cells-7', 'highly_variable-7', 'means-7', 'dispersions-7', 'dispersions_norm-7', 'n_cells_by_counts-8', 'mean_counts-8', 'log1p_mean_counts-8', 'pct_dropout_by_counts-8', 'total_counts-8', 'log1p_total_counts-8', 'n_cells-8', 'highly_variable-8', 'means-8', 'dispersions-8', 'dispersions_norm-8', 'n_cells_by_counts-9', 'mean_counts-9', 'log1p_mean_counts-9', 'pct_dropout_by_counts-9', 'total_counts-9', 'log1p_total_counts-9', 'n_cells-9', 'highly_variable-9', 'means-9', 'dispersions-9', 'dispersions_norm-9', 'gene_ids', 'genome', 'mt', 'feature_types'\n",
       "    obsm: 'spatial'"
      ]
     },
     "execution_count": 12,
     "metadata": {},
     "output_type": "execute_result"
    }
   ],
   "source": [
    "adata"
   ]
  },
  {
   "cell_type": "code",
   "execution_count": null,
   "id": "d12bb733",
   "metadata": {},
   "outputs": [],
   "source": []
  }
 ],
 "metadata": {
  "kernelspec": {
   "display_name": "Python 3 (ipykernel)",
   "language": "python",
   "name": "python3"
  },
  "language_info": {
   "codemirror_mode": {
    "name": "ipython",
    "version": 3
   },
   "file_extension": ".py",
   "mimetype": "text/x-python",
   "name": "python",
   "nbconvert_exporter": "python",
   "pygments_lexer": "ipython3",
   "version": "3.8.16"
  }
 },
 "nbformat": 4,
 "nbformat_minor": 5
}
